{
 "cells": [
  {
   "cell_type": "markdown",
   "id": "395d8d58",
   "metadata": {},
   "source": [
    "# Multidimensional filtering assisted by SigmaCCS"
   ]
  },
  {
   "cell_type": "code",
   "execution_count": 1,
   "id": "df6d720a",
   "metadata": {},
   "outputs": [],
   "source": [
    "import wget\n",
    "import pandas as pd\n",
    "from tqdm import tqdm\n",
    "import numpy as np\n",
    "import rdkit\n",
    "from rdkit import Chem\n",
    "from rdkit.Chem.Descriptors import ExactMolWt\n",
    "from tqdm import *\n",
    "from pandas import *\n",
    "from matchms.importing import load_from_msp"
   ]
  },
  {
   "cell_type": "markdown",
   "id": "3266c7ca",
   "metadata": {},
   "source": [
    "## Download the LipidBlast dataset with negative ion mode"
   ]
  },
  {
   "cell_type": "code",
   "execution_count": 2,
   "id": "aa2ec613",
   "metadata": {},
   "outputs": [
    {
     "name": "stdout",
     "output_type": "stream",
     "text": [
      "100% [......................................................................] 418295847 / 418295847"
     ]
    }
   ],
   "source": [
    "url = 'http://prime.psc.riken.jp/compms/msdial/download/lipidblast/MSDIAL-TandemMassSpectralAtlas-VS69-Neg.msp'\n",
    "LipidBlastNeg = wget.download(url, \".\")"
   ]
  },
  {
   "cell_type": "markdown",
   "id": "9722486e",
   "metadata": {},
   "source": [
    "## the removal of unpredictable adducts"
   ]
  },
  {
   "cell_type": "code",
   "execution_count": 3,
   "id": "b3d4b4a6",
   "metadata": {},
   "outputs": [
    {
     "name": "stderr",
     "output_type": "stream",
     "text": [
      "100%|███████████████████████████████████████████████████████████████████████| 792757/792757 [01:07<00:00, 11805.29it/s]\n"
     ]
    }
   ],
   "source": [
    "LBneg_spectrum = list(load_from_msp(LipidBlastNeg))\n",
    "ADDUCTS_LIST = ['[M+H]+','[M-H]-','[M+Na]+']\n",
    "NameB, InchikeyB, AdductB, SMILESB, MZB = [], [], [], [], []\n",
    "for i in tqdm(range(len(LBneg_spectrum))):\n",
    "    if LBneg_spectrum[i].metadata['precursortype'] in ADDUCTS_LIST:\n",
    "        NameB.append(LBneg_spectrum[i].metadata['compound_name'])\n",
    "        InchikeyB.append(LBneg_spectrum[i].metadata['inchikey'])\n",
    "        AdductB.append(LBneg_spectrum[i].metadata['precursortype'])\n",
    "        SMILESB.append(LBneg_spectrum[i].metadata['smiles'])\n",
    "        MZB.append(LBneg_spectrum[i].metadata['precursor_mz'])\n",
    "data = {'NameB': NameB,\n",
    "         'InchikeyB': InchikeyB,\n",
    "         'AdductB': AdductB,\n",
    "         'SMILESB': SMILESB,\n",
    "         'MZB': MZB}\n",
    "df = DataFrame(data)\n",
    "df.to_excel('LiquidBlast_adduct_neg.xlsx', index=False)   "
   ]
  },
  {
   "cell_type": "markdown",
   "id": "24452264",
   "metadata": {},
   "source": [
    "## Load the mouse lung dataset with 761 lipids in negative ion mode"
   ]
  },
  {
   "cell_type": "code",
   "execution_count": 4,
   "id": "74be9455",
   "metadata": {},
   "outputs": [],
   "source": [
    "lung_neg = pd.read_excel('Mouse_lung_adduct_negative.xlsx')  #query"
   ]
  },
  {
   "cell_type": "markdown",
   "id": "068d5bc9",
   "metadata": {},
   "source": [
    "## Taken the lipid (PubChem CID: 114944) as an example"
   ]
  },
  {
   "cell_type": "markdown",
   "id": "7ac5f662",
   "metadata": {},
   "source": [
    "### MList"
   ]
  },
  {
   "cell_type": "code",
   "execution_count": 5,
   "id": "7d62e895",
   "metadata": {},
   "outputs": [
    {
     "name": "stderr",
     "output_type": "stream",
     "text": [
      "100%|██████████████████████████████████████████████████████████████████████| 256696/256696 [00:01<00:00, 219271.29it/s]\n"
     ]
    }
   ],
   "source": [
    "neg_spectrum = df\n",
    "tm = 0.00003\n",
    "ln = lung_neg['MZ'][329]\n",
    "\n",
    "metabolite, inchikey, adduct, smile, mz  = [], [], [], [], []\n",
    "for i in tqdm(range(len(neg_spectrum))):\n",
    "    dev = (abs(ln - neg_spectrum['MZB'][i]))/neg_spectrum['MZB'][i]\n",
    "    if dev < tm:  \n",
    "        metabolite.append(neg_spectrum['NameB'][i])\n",
    "        inchikey.append(neg_spectrum['InchikeyB'][i])\n",
    "        adduct.append(neg_spectrum['AdductB'][i])\n",
    "        smile.append(neg_spectrum['SMILESB'][i])\n",
    "        mz.append(neg_spectrum['MZB'][i])\n",
    "\n",
    "data = {'NameB': metabolite,\n",
    "         'InchikeyB': inchikey,\n",
    "         'AdductB':adduct,\n",
    "         'SMILESB': smile,\n",
    "         'MZB': mz}\n",
    "\n",
    "df = DataFrame(data)\n",
    "df.to_excel('MList_329.xlsx', index=False)"
   ]
  },
  {
   "cell_type": "markdown",
   "id": "f694db34",
   "metadata": {},
   "source": [
    "### Load retention times of the molecules in the MList. Please refer to github GNN-RT repository for details of RT prediction"
   ]
  },
  {
   "cell_type": "code",
   "execution_count": 6,
   "id": "d2ad4727",
   "metadata": {},
   "outputs": [],
   "source": [
    "neg = pd.read_excel('MListWithPredictedRTs_329.xlsx')  #prediction"
   ]
  },
  {
   "cell_type": "markdown",
   "id": "f01eb901",
   "metadata": {},
   "source": [
    "### RList"
   ]
  },
  {
   "cell_type": "code",
   "execution_count": 7,
   "id": "67b91033",
   "metadata": {},
   "outputs": [
    {
     "name": "stderr",
     "output_type": "stream",
     "text": [
      "100%|███████████████████████████████████████████████████████████████████████████████| 80/80 [00:00<00:00, 79891.50it/s]\n"
     ]
    }
   ],
   "source": [
    "tr = 0.20\n",
    "\n",
    "ln = lung_neg['RT'][329]\n",
    "\n",
    "neg_rt = neg['Predict_RT']\n",
    "\n",
    "metabolite, inchikey, adduct, smile, mz, rt  = [], [], [], [], [], []\n",
    "\n",
    "for i in tqdm(range(len(neg_rt))):\n",
    "\n",
    "    dev = (abs(ln - neg_rt[i]))/neg_rt[i]\n",
    "\n",
    "    if dev < tr:\n",
    "        metabolite.append(neg['NameB'][i])\n",
    "        inchikey.append(neg['InchikeyB'][i])\n",
    "        adduct.append(neg['AdductB'][i])\n",
    "        smile.append(neg['SMILESB'][i])\n",
    "        mz.append(neg['MZB'][i])\n",
    "        rt.append(neg_rt[i])\n",
    "\n",
    "data = {'NameB': metabolite,\n",
    "         'InchikeyB': inchikey,\n",
    "         'AdductB':adduct,\n",
    "         'SMILESB': smile,\n",
    "         'MZB': mz,\n",
    "         'Predict_RT':rt}\n",
    "\n",
    "df = DataFrame(data)\n",
    "df.to_excel('RList_329.xlsx', index=False)"
   ]
  },
  {
   "cell_type": "markdown",
   "id": "618d4692",
   "metadata": {},
   "source": [
    "### Load the predicted CCS values of the molecules in the LipidBlast and then add CCS to the RList"
   ]
  },
  {
   "cell_type": "code",
   "execution_count": 8,
   "id": "087e7315",
   "metadata": {},
   "outputs": [
    {
     "name": "stderr",
     "output_type": "stream",
     "text": [
      "100%|██████████████████████████████████████████████████████████████████████████████████| 55/55 [00:00<00:00, 74.97it/s]\n"
     ]
    }
   ],
   "source": [
    "allpredccs = pd.read_excel('LipidBlastPredCCS.xlsx')  \n",
    "allpredccs_ccs = list(allpredccs['Pred_CCS'])\n",
    "allpredccs_smi = list(allpredccs['SMILES'])\n",
    "\n",
    "canccs = df\n",
    "canccs_smi = list(canccs['SMILESB'])\n",
    "\n",
    "canccs[\"SigmaCCS\"] = ''\n",
    "\n",
    "for i in tqdm(range(len(canccs_smi))):\n",
    "    cal_mass = 0\n",
    "    for j in range(len(allpredccs_smi)):\n",
    "        if canccs_smi[i] == allpredccs_smi[j]:\n",
    "            cal_mass = allpredccs_ccs[j]\n",
    "            canccs.loc[i, 'SigmaCCS'] = cal_mass\n",
    "\n",
    "canccs.to_excel('RListWithPredictedCCSs_329.xlsx', index=False)"
   ]
  },
  {
   "cell_type": "markdown",
   "id": "5bbea627",
   "metadata": {},
   "source": [
    "### CList"
   ]
  },
  {
   "cell_type": "code",
   "execution_count": 9,
   "id": "a2f77827",
   "metadata": {},
   "outputs": [
    {
     "name": "stderr",
     "output_type": "stream",
     "text": [
      "100%|███████████████████████████████████████████████████████████████████████████████| 55/55 [00:00<00:00, 18324.47it/s]\n"
     ]
    }
   ],
   "source": [
    "tc = 0.05\n",
    "\n",
    "ln = lung_neg['CCS'][329]\n",
    "\n",
    "neg = canccs\n",
    "neg_ccs = neg['SigmaCCS']\n",
    "\n",
    "metabolite, inchikey, adduct, smile, mz, rt, ccs  = [], [], [], [], [], [], []\n",
    "\n",
    "for i in tqdm(range(len(neg_ccs))):\n",
    "\n",
    "    dev = (abs(ln - neg_ccs[i]))/neg_ccs[i]\n",
    "\n",
    "    if dev < tc:\n",
    "        metabolite.append(neg['NameB'][i])\n",
    "        inchikey.append(neg['InchikeyB'][i])\n",
    "        adduct.append(neg['AdductB'][i])\n",
    "        smile.append(neg['SMILESB'][i])\n",
    "        mz.append(neg['MZB'][i])\n",
    "        rt.append(neg['Predict_RT'][i])\n",
    "        ccs.append(neg_ccs[i])\n",
    "\n",
    "data = {'NameB': metabolite,\n",
    "         'InchikeyB': inchikey,\n",
    "         'AdductB':adduct,\n",
    "         'SMILESB': smile,\n",
    "         'MZB': mz,\n",
    "         'Predict_RT':rt,\n",
    "         'Predict_CCS' : ccs}\n",
    "\n",
    "df = DataFrame(data)\n",
    "df.to_excel('CList_329.xlsx', index=False)"
   ]
  },
  {
   "cell_type": "markdown",
   "id": "24ab47e4",
   "metadata": {},
   "source": [
    "### The fused scores in the CList"
   ]
  },
  {
   "cell_type": "code",
   "execution_count": 10,
   "id": "fb4baf37",
   "metadata": {},
   "outputs": [],
   "source": [
    "target_mols = lung_neg\n",
    "\n",
    "label_CCS = list(target_mols['CCS'])[329]\n",
    "label_RT = list(target_mols['RT'])[329]\n",
    "label_mz = list(target_mols['MZ'])[329]\n",
    "\n",
    "TOL_min_ccs = 0.015\n",
    "TOL_max_ccs = 0.040\n",
    "TOL_min_rt = 0.02\n",
    "TOL_max_rt = 0.15\n",
    "TOL_min_mz = 0.00002\n",
    "TOL_max_mz = 0.00005\n",
    "\n",
    "candidate = df\n",
    "candidate[\"predict_mz\"] = ''\n",
    "smiles = list(candidate['SMILESB'])\n",
    "add = list(target_mols['Adduct'])[329]\n",
    "for s in range(len(candidate['SMILESB'])):\n",
    "    smi = smiles[s]\n",
    "    mol = Chem.MolFromSmiles(smi)\n",
    "    cal_mass = ExactMolWt(mol)\n",
    "    if add == '[M-H]-':\n",
    "        cal_mass -= ExactMolWt(Chem.MolFromSmiles('[H+]'))\n",
    "    candidate.loc[s, 'predict_mz'] = cal_mass\n",
    "candidate['CCS_score'] = ''\n",
    "candidate['RT_score'] = ''\n",
    "candidate['mz_score'] = ''\n",
    "pred_CCS = np.array(list(candidate['Predict_CCS']))\n",
    "pred_RT = np.array(list(candidate['Predict_RT']))\n",
    "pred_mz = np.array(list(candidate['predict_mz']))\n",
    "\n",
    "relative_error = (abs(pred_CCS-label_CCS))/label_CCS\n",
    "relative_error_rt = (abs(pred_RT-label_RT))/label_RT\n",
    "relative_error_mz = (abs(pred_mz-label_mz))/label_mz\n",
    "\n",
    "\n",
    "for j in range(len(relative_error)):\n",
    "    if relative_error[j] < TOL_min_ccs:\n",
    "        ccs_score = 1\n",
    "    elif relative_error[j] > TOL_max_ccs:\n",
    "        ccs_score = 0\n",
    "    elif (relative_error[j] >= TOL_min_ccs) and (relative_error[j] <= TOL_max_ccs):\n",
    "        ccs_score = 1-(relative_error[j] - TOL_min_ccs)/(TOL_max_ccs - TOL_min_ccs)\n",
    "    candidate.loc[j,'CCS_score'] = ccs_score\n",
    "\n",
    "for k in range(len(relative_error_rt)):\n",
    "    if relative_error_rt[k] < TOL_min_rt:\n",
    "        rt_score = 1\n",
    "    elif relative_error_rt[k] > TOL_max_rt:\n",
    "        rt_score = 0\n",
    "    elif (relative_error_rt[k] >= TOL_min_rt) and (relative_error_rt[k] <= TOL_max_rt):\n",
    "        rt_score = 1-(relative_error_rt[k] - TOL_min_rt)/(TOL_max_rt - TOL_min_rt)\n",
    "    candidate.loc[k,'RT_score'] = rt_score\n",
    "\n",
    "\n",
    "for l in range(len(relative_error_mz)):\n",
    "    if relative_error_mz[l] < TOL_min_mz:\n",
    "        mz_score = 1\n",
    "    elif relative_error_mz[l] > TOL_max_mz:\n",
    "        mz_score = 0\n",
    "    elif (relative_error_mz[l] >= TOL_min_mz) and (relative_error_mz[l] <= TOL_max_mz):\n",
    "        mz_score = 1-(relative_error_mz[l] - TOL_min_mz)/(TOL_max_mz - TOL_min_mz)\n",
    "    candidate.loc[l,'mz_score'] = mz_score\n",
    "\n",
    "for z in range(len(relative_error)):\n",
    "    candidate.loc[z, 'score'] = candidate['CCS_score'][z] * 0.2 + candidate['RT_score'][z] * 0.2 + candidate['mz_score'][z] * 0.6\n",
    "\n",
    "candidate.to_excel('CListwithFusedScore_329.xlsx', index=False) "
   ]
  }
 ],
 "metadata": {
  "kernelspec": {
   "display_name": "Python 3 (ipykernel)",
   "language": "python",
   "name": "python3"
  },
  "language_info": {
   "codemirror_mode": {
    "name": "ipython",
    "version": 3
   },
   "file_extension": ".py",
   "mimetype": "text/x-python",
   "name": "python",
   "nbconvert_exporter": "python",
   "pygments_lexer": "ipython3",
   "version": "3.7.7"
  }
 },
 "nbformat": 4,
 "nbformat_minor": 5
}
