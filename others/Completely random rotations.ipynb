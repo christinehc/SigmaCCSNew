{
 "cells": [
  {
   "cell_type": "markdown",
   "id": "9cc20436",
   "metadata": {},
   "source": [
    "# Completely random rotations"
   ]
  },
  {
   "cell_type": "code",
   "execution_count": 1,
   "id": "7570c783",
   "metadata": {},
   "outputs": [],
   "source": [
    "from RotationMatrix import *\n",
    "import sys\n",
    "sys.path.append(\"..\")\n",
    "from sigma.GraphData import *\n",
    "from sigma.model import *\n",
    "import pandas as pd\n",
    "import random\n",
    "from pandas import Series,DataFrame\n",
    "import numpy as np\n",
    "import math\n",
    "import copy\n",
    "from tqdm import tqdm\n",
    "import statistics\n",
    "import warnings\n",
    "warnings.filterwarnings(\"ignore\")"
   ]
  },
  {
   "cell_type": "code",
   "execution_count": 2,
   "id": "953b21c0",
   "metadata": {},
   "outputs": [],
   "source": [
    "ifile = '../data/TestData.csv'\n",
    "ParameterPath = '../parameter/parameter.pkl'\n",
    "mfileh5 = '../model/model_new.h5'"
   ]
  },
  {
   "cell_type": "markdown",
   "id": "c055da0f",
   "metadata": {},
   "source": [
    "## Performance of SigmaCCS on the test set with initial position"
   ]
  },
  {
   "cell_type": "code",
   "execution_count": 3,
   "id": "9ca972f3",
   "metadata": {},
   "outputs": [
    {
     "name": "stdout",
     "output_type": "stream",
     "text": [
      "The generation of 3d conformers: 100%|█████████████████▉| 558/559 [02:19<00:00,  4.01it/s]\n",
      "Predictions: 100%|█████████████████████████████████████▉| 558/559 [00:10<00:00, 55.39it/s]\n",
      "The number of molecules in the test set : 559 \n",
      "\n",
      "R2 Score : 0.9938208533376769\n",
      "Median Relative Error : 1.2091052412873495 %\n"
     ]
    }
   ],
   "source": [
    "R2 = []\n",
    "MeRE = []\n",
    "smiles, adduct, ccs = read_data(ifile)\n",
    "param = parameter.Parameter()\n",
    "with open(ParameterPath,'rb') as file:\n",
    "    param  = pickle.loads(file.read())  \n",
    "smiles, adduct, ccs, Coordinate = Generating_coordinates(smiles, adduct, ccs, param.All_Atoms)    #559\n",
    "\n",
    "CoordinateStd = copy.deepcopy(Coordinate)\n",
    "for z in range(len(CoordinateStd)):\n",
    "    CoordinateStd[z] = (np.array(CoordinateStd[z]) - param.Min_Coor) / (param.Max_Coor - param.Min_Coor)\n",
    "    \n",
    "adj, features, edge_features = convertToGraph(smiles, CoordinateStd, param.All_Atoms)\n",
    "DataSet = MyDataset(features, adj, edge_features, ccs)\n",
    "\n",
    "ECC_Model = load_Model_from_file(mfileh5)\n",
    "\n",
    "re = predict(ECC_Model,param.adduct_SET,DataSet,adduct,)\n",
    "print(\"The number of molecules in the test set :\", len(re), '\\n')\n",
    "\n",
    "Sigma   = re\n",
    "CCS     = ccs\n",
    "SigmaPer = Metrics(CCS, Sigma)\n",
    "print(\"R2 Score :\", SigmaPer[0])\n",
    "print(\"Median Relative Error :\", SigmaPer[1], '%')\n",
    "R2.append(SigmaPer[0])\n",
    "MeRE.append(SigmaPer[1])"
   ]
  },
  {
   "cell_type": "markdown",
   "id": "639ac791",
   "metadata": {},
   "source": [
    "## Performance of SigmaCCS on the test set with completely random rotations"
   ]
  },
  {
   "cell_type": "code",
   "execution_count": 4,
   "id": "69cada4b",
   "metadata": {},
   "outputs": [
    {
     "name": "stdout",
     "output_type": "stream",
     "text": [
      "Predictions: 100%|█████████████████████████████████████▉| 558/559 [00:10<00:00, 55.51it/s]\n",
      "R2 Score : 0.9937308160729849\n",
      "Median Relative Error : 1.1831046709048203 %\n",
      "Predictions: 100%|█████████████████████████████████████▉| 558/559 [00:10<00:00, 55.11it/s]\n",
      "R2 Score : 0.9937602173924285\n",
      "Median Relative Error : 1.2070225107697155 %\n",
      "Predictions: 100%|█████████████████████████████████████▉| 558/559 [00:10<00:00, 54.65it/s]\n",
      "R2 Score : 0.9938199817539074\n",
      "Median Relative Error : 1.1645306663628452 %\n",
      "Predictions: 100%|█████████████████████████████████████▉| 558/559 [00:10<00:00, 51.41it/s]\n",
      "R2 Score : 0.9936508842588421\n",
      "Median Relative Error : 1.2338581041155392 %\n",
      "Predictions: 100%|█████████████████████████████████████▉| 558/559 [00:10<00:00, 51.91it/s]\n",
      "R2 Score : 0.9938102222952643\n",
      "Median Relative Error : 1.1970997119015887 %\n",
      "Predictions: 100%|█████████████████████████████████████▉| 558/559 [00:10<00:00, 54.63it/s]\n",
      "R2 Score : 0.9937497609193081\n",
      "Median Relative Error : 1.2430327557834946 %\n",
      "Predictions: 100%|█████████████████████████████████████▉| 558/559 [00:10<00:00, 54.93it/s]\n",
      "R2 Score : 0.9937591354545436\n",
      "Median Relative Error : 1.21346669057026 %\n",
      "Predictions: 100%|█████████████████████████████████████▉| 558/559 [00:10<00:00, 55.06it/s]\n",
      "R2 Score : 0.9938372928786404\n",
      "Median Relative Error : 1.2262278570256722 %\n",
      "Predictions: 100%|█████████████████████████████████████▉| 558/559 [00:10<00:00, 54.99it/s]\n",
      "R2 Score : 0.993784951050625\n",
      "Median Relative Error : 1.1802847453545198 %\n",
      "Predictions: 100%|█████████████████████████████████████▉| 558/559 [00:10<00:00, 53.65it/s]\n",
      "R2 Score : 0.9936658338802333\n",
      "Median Relative Error : 1.2057160591250249 %\n",
      "Predictions: 100%|█████████████████████████████████████▉| 558/559 [00:10<00:00, 51.05it/s]\n",
      "R2 Score : 0.9938143180173308\n",
      "Median Relative Error : 1.2383474446269693 %\n",
      "Predictions: 100%|█████████████████████████████████████▉| 558/559 [00:10<00:00, 52.86it/s]\n",
      "R2 Score : 0.9938734900196341\n",
      "Median Relative Error : 1.237038316820673 %\n",
      "Predictions: 100%|█████████████████████████████████████▉| 558/559 [00:10<00:00, 53.06it/s]\n",
      "R2 Score : 0.9937549631217621\n",
      "Median Relative Error : 1.2325530589611082 %\n",
      "Predictions: 100%|█████████████████████████████████████▉| 558/559 [00:10<00:00, 54.70it/s]\n",
      "R2 Score : 0.9936714505305323\n",
      "Median Relative Error : 1.2394797772199868 %\n",
      "Predictions: 100%|█████████████████████████████████████▉| 558/559 [00:10<00:00, 54.23it/s]\n",
      "R2 Score : 0.9937540286525265\n",
      "Median Relative Error : 1.2138969915670097 %\n",
      "Predictions: 100%|█████████████████████████████████████▉| 558/559 [00:10<00:00, 54.00it/s]\n",
      "R2 Score : 0.9937615793974695\n",
      "Median Relative Error : 1.2225001531195556 %\n",
      "Predictions: 100%|█████████████████████████████████████▉| 558/559 [00:10<00:00, 54.99it/s]\n",
      "R2 Score : 0.993823897198568\n",
      "Median Relative Error : 1.2072527850115782 %\n",
      "Predictions: 100%|█████████████████████████████████████▉| 558/559 [00:10<00:00, 54.25it/s]\n",
      "R2 Score : 0.9937318445574769\n",
      "Median Relative Error : 1.21958796532936 %\n",
      "Predictions: 100%|█████████████████████████████████████▉| 558/559 [00:10<00:00, 54.70it/s]\n",
      "R2 Score : 0.9938607513206558\n",
      "Median Relative Error : 1.2186445902025917 %\n"
     ]
    }
   ],
   "source": [
    "for j in range(19):\n",
    "    CoordinateRotate = copy.deepcopy(Coordinate)\n",
    "    for k in range(len(CoordinateRotate)):\n",
    "        thetax = random.uniform(0, 2*math.pi)  \n",
    "        thetay = random.uniform(0, 2*math.pi)\n",
    "        thetaz = random.uniform(0, 2*math.pi)\n",
    "        for ii in range(len(CoordinateRotate[k])):\n",
    "            CoordinateRotate[k][ii] = CoordinateRotate[k][ii] @Rx(thetax) @Ry(thetay) @Rz(thetaz)\n",
    "    for i in range(len(CoordinateRotate)):\n",
    "        CoordinateRotate[i] = (np.array(CoordinateRotate[i]) - param.Min_Coor) / (param.Max_Coor - param.Min_Coor)\n",
    "        \n",
    "    adj, features, edge_features = convertToGraph(smiles, CoordinateRotate, param.All_Atoms)\n",
    "    DataSet = MyDataset(features, adj, edge_features, ccs)\n",
    "\n",
    "    ECC_Model = load_Model_from_file(mfileh5)\n",
    "\n",
    "    re = predict(ECC_Model,param.adduct_SET,DataSet,adduct,)\n",
    "\n",
    "    Sigma   = re\n",
    "    CCS     = ccs\n",
    "    SigmaPer = Metrics(CCS, Sigma)\n",
    "    print(\"R2 Score :\", SigmaPer[0])\n",
    "    print(\"Median Relative Error :\", SigmaPer[1], '%')\n",
    "    R2.append(SigmaPer[0])\n",
    "    MeRE.append(SigmaPer[1])"
   ]
  },
  {
   "cell_type": "code",
   "execution_count": 5,
   "id": "e2405545",
   "metadata": {},
   "outputs": [
    {
     "name": "stdout",
     "output_type": "stream",
     "text": [
      "the mean value of R2 : 0.9938\n",
      "the standard deviation of R2 : 6e-05\n",
      "the mean value of Median Relative Error : 1.215 %\n",
      "the standard deviation of Median Relative Error : 0.0213 %\n"
     ]
    }
   ],
   "source": [
    "r2_mean = statistics.mean(R2)\n",
    "r2_std = statistics.stdev(R2)\n",
    "\n",
    "MeRE_mean = statistics.mean(MeRE)\n",
    "MeRE_std = statistics.stdev(MeRE)\n",
    "\n",
    "print(\"the mean value of R2 :\", round(r2_mean, 4))\n",
    "print(\"the standard deviation of R2 :\", round(r2_std, 5))\n",
    "\n",
    "print(\"the mean value of Median Relative Error :\", round(MeRE_mean, 3), '%')\n",
    "print(\"the standard deviation of Median Relative Error :\", round(MeRE_std, 4), '%')"
   ]
  },
  {
   "cell_type": "code",
   "execution_count": 6,
   "id": "14f262fd",
   "metadata": {},
   "outputs": [
    {
     "name": "stdout",
     "output_type": "stream",
     "text": [
      "R2 Score : 0.9938\n",
      "R2 Score : 0.9937\n",
      "R2 Score : 0.9938\n",
      "R2 Score : 0.9938\n",
      "R2 Score : 0.9937\n",
      "R2 Score : 0.9938\n",
      "R2 Score : 0.9937\n",
      "R2 Score : 0.9938\n",
      "R2 Score : 0.9938\n",
      "R2 Score : 0.9938\n",
      "R2 Score : 0.9937\n",
      "R2 Score : 0.9938\n",
      "R2 Score : 0.9939\n",
      "R2 Score : 0.9938\n",
      "R2 Score : 0.9937\n",
      "R2 Score : 0.9938\n",
      "R2 Score : 0.9938\n",
      "R2 Score : 0.9938\n",
      "R2 Score : 0.9937\n",
      "R2 Score : 0.9939\n",
      "Median Relative Error : 1.209 %\n",
      "Median Relative Error : 1.183 %\n",
      "Median Relative Error : 1.207 %\n",
      "Median Relative Error : 1.165 %\n",
      "Median Relative Error : 1.234 %\n",
      "Median Relative Error : 1.197 %\n",
      "Median Relative Error : 1.243 %\n",
      "Median Relative Error : 1.213 %\n",
      "Median Relative Error : 1.226 %\n",
      "Median Relative Error : 1.18 %\n",
      "Median Relative Error : 1.206 %\n",
      "Median Relative Error : 1.238 %\n",
      "Median Relative Error : 1.237 %\n",
      "Median Relative Error : 1.233 %\n",
      "Median Relative Error : 1.239 %\n",
      "Median Relative Error : 1.214 %\n",
      "Median Relative Error : 1.223 %\n",
      "Median Relative Error : 1.207 %\n",
      "Median Relative Error : 1.22 %\n",
      "Median Relative Error : 1.219 %\n"
     ]
    }
   ],
   "source": [
    "for r in R2:\n",
    "    print(\"R2 Score :\", round(r, 4))\n",
    "for re in MeRE:\n",
    "    print(\"Median Relative Error :\", round(re, 3), '%')"
   ]
  }
 ],
 "metadata": {
  "kernelspec": {
   "display_name": "Python 3 (ipykernel)",
   "language": "python",
   "name": "python3"
  },
  "language_info": {
   "codemirror_mode": {
    "name": "ipython",
    "version": 3
   },
   "file_extension": ".py",
   "mimetype": "text/x-python",
   "name": "python",
   "nbconvert_exporter": "python",
   "pygments_lexer": "ipython3",
   "version": "3.7.7"
  }
 },
 "nbformat": 4,
 "nbformat_minor": 5
}
