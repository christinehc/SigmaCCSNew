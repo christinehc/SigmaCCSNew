{
 "cells": [
  {
   "cell_type": "markdown",
   "id": "9cc20436",
   "metadata": {},
   "source": [
    "# Completely random rotations"
   ]
  },
  {
   "cell_type": "code",
   "execution_count": 1,
   "id": "7570c783",
   "metadata": {},
   "outputs": [],
   "source": [
    "from RotationMatrix import *\n",
    "import sys\n",
    "sys.path.append(\"..\")\n",
    "from sigma.GraphData import *\n",
    "from sigma.model import *\n",
    "import pandas as pd\n",
    "import random\n",
    "from pandas import Series,DataFrame\n",
    "import numpy as np\n",
    "import math\n",
    "import copy\n",
    "from tqdm import tqdm"
   ]
  },
  {
   "cell_type": "code",
   "execution_count": 2,
   "id": "953b21c0",
   "metadata": {},
   "outputs": [],
   "source": [
    "ifile = '../data/TestData.csv'\n",
    "ParameterPath = '../parameter/parameter.pkl'\n",
    "mfileh5 = '../model/model_new.h5'"
   ]
  },
  {
   "cell_type": "markdown",
   "id": "c055da0f",
   "metadata": {},
   "source": [
    "## Performance of SigmaCCS on the test set with initial position"
   ]
  },
  {
   "cell_type": "code",
   "execution_count": 3,
   "id": "9ca972f3",
   "metadata": {},
   "outputs": [
    {
     "name": "stdout",
     "output_type": "stream",
     "text": [
      "The generation of 3d conformers: 100%|█████████████████▉| 558/559 [02:20<00:00,  3.96it/s]\n"
     ]
    },
    {
     "name": "stderr",
     "output_type": "stream",
     "text": [
      "..\\sigma\\GraphData.py:187: VisibleDeprecationWarning: Creating an ndarray from ragged nested sequences (which is a list-or-tuple of lists-or-tuples-or ndarrays with different lengths or shapes) is deprecated. If you meant to do this, you must specify 'dtype=object' when creating the ndarray.\n",
      "  features = np.asarray(features)\n",
      "..\\sigma\\GraphData.py:188: VisibleDeprecationWarning: Creating an ndarray from ragged nested sequences (which is a list-or-tuple of lists-or-tuples-or ndarrays with different lengths or shapes) is deprecated. If you meant to do this, you must specify 'dtype=object' when creating the ndarray.\n",
      "  edge_features = np.asarray(edge_features)\n"
     ]
    },
    {
     "name": "stdout",
     "output_type": "stream",
     "text": [
      "Predictions: 100%|█████████████████████████████████████▉| 558/559 [00:07<00:00, 76.41it/s]\n",
      "The number of molecules in the test set : 559 \n",
      "\n",
      "R2 Score : 0.9937075292150549 \n",
      "\n",
      "Median Relative Error : 1.2091052412873495 %\n"
     ]
    }
   ],
   "source": [
    "R2 = []\n",
    "MeRE = []\n",
    "smiles, adduct, ccs = read_data(ifile)\n",
    "param = parameter.Parameter()\n",
    "with open(ParameterPath,'rb') as file:\n",
    "    param  = pickle.loads(file.read())  \n",
    "smiles, adduct, ccs, Coordinate = Generating_coordinates(smiles, adduct, ccs, param.All_Atoms)    #559\n",
    "\n",
    "CoordinateStd = copy.deepcopy(Coordinate)\n",
    "for z in range(len(CoordinateStd)):\n",
    "    CoordinateStd[z] = (np.array(CoordinateStd[z]) - param.Min_Coor) / (param.Max_Coor - param.Min_Coor)\n",
    "    \n",
    "adj, features, edge_features = convertToGraph(smiles, CoordinateStd, param.All_Atoms)\n",
    "DataSet = MyDataset(features, adj, edge_features, ccs)\n",
    "\n",
    "ECC_Model = load_Model_from_file(mfileh5)\n",
    "\n",
    "re = predict(ECC_Model,param.adduct_SET,DataSet,adduct,)\n",
    "print(\"The number of molecules in the test set :\", len(re), '\\n')\n",
    "\n",
    "Sigma     = re\n",
    "CCS     = ccs\n",
    "SigmaPer = R2_MRE(CCS, Sigma)\n",
    "R2.append(SigmaPer[0])\n",
    "MeRE.append(SigmaPer[1])"
   ]
  },
  {
   "cell_type": "markdown",
   "id": "639ac791",
   "metadata": {},
   "source": [
    "## Performance of SigmaCCS on the test set with completely random rotation"
   ]
  },
  {
   "cell_type": "code",
   "execution_count": 4,
   "id": "69cada4b",
   "metadata": {},
   "outputs": [
    {
     "name": "stderr",
     "output_type": "stream",
     "text": [
      "..\\sigma\\GraphData.py:187: VisibleDeprecationWarning: Creating an ndarray from ragged nested sequences (which is a list-or-tuple of lists-or-tuples-or ndarrays with different lengths or shapes) is deprecated. If you meant to do this, you must specify 'dtype=object' when creating the ndarray.\n",
      "  features = np.asarray(features)\n",
      "..\\sigma\\GraphData.py:188: VisibleDeprecationWarning: Creating an ndarray from ragged nested sequences (which is a list-or-tuple of lists-or-tuples-or ndarrays with different lengths or shapes) is deprecated. If you meant to do this, you must specify 'dtype=object' when creating the ndarray.\n",
      "  edge_features = np.asarray(edge_features)\n"
     ]
    },
    {
     "name": "stdout",
     "output_type": "stream",
     "text": [
      "Predictions: 100%|█████████████████████████████████████▉| 558/559 [00:07<00:00, 74.85it/s]\n",
      "R2 Score : 0.9936255024090758 \n",
      "\n",
      "Median Relative Error : 1.2053557225732643 %\n"
     ]
    },
    {
     "name": "stderr",
     "output_type": "stream",
     "text": [
      "..\\sigma\\GraphData.py:187: VisibleDeprecationWarning: Creating an ndarray from ragged nested sequences (which is a list-or-tuple of lists-or-tuples-or ndarrays with different lengths or shapes) is deprecated. If you meant to do this, you must specify 'dtype=object' when creating the ndarray.\n",
      "  features = np.asarray(features)\n",
      "..\\sigma\\GraphData.py:188: VisibleDeprecationWarning: Creating an ndarray from ragged nested sequences (which is a list-or-tuple of lists-or-tuples-or ndarrays with different lengths or shapes) is deprecated. If you meant to do this, you must specify 'dtype=object' when creating the ndarray.\n",
      "  edge_features = np.asarray(edge_features)\n"
     ]
    },
    {
     "name": "stdout",
     "output_type": "stream",
     "text": [
      "Predictions: 100%|█████████████████████████████████████▉| 558/559 [00:07<00:00, 71.89it/s]\n",
      "R2 Score : 0.9936953300063055 \n",
      "\n",
      "Median Relative Error : 1.2362182352808273 %\n"
     ]
    },
    {
     "name": "stderr",
     "output_type": "stream",
     "text": [
      "..\\sigma\\GraphData.py:187: VisibleDeprecationWarning: Creating an ndarray from ragged nested sequences (which is a list-or-tuple of lists-or-tuples-or ndarrays with different lengths or shapes) is deprecated. If you meant to do this, you must specify 'dtype=object' when creating the ndarray.\n",
      "  features = np.asarray(features)\n",
      "..\\sigma\\GraphData.py:188: VisibleDeprecationWarning: Creating an ndarray from ragged nested sequences (which is a list-or-tuple of lists-or-tuples-or ndarrays with different lengths or shapes) is deprecated. If you meant to do this, you must specify 'dtype=object' when creating the ndarray.\n",
      "  edge_features = np.asarray(edge_features)\n"
     ]
    },
    {
     "name": "stdout",
     "output_type": "stream",
     "text": [
      "Predictions: 100%|█████████████████████████████████████▉| 558/559 [00:07<00:00, 72.10it/s]\n",
      "R2 Score : 0.9936449871917126 \n",
      "\n",
      "Median Relative Error : 1.1894429866742653 %\n"
     ]
    },
    {
     "name": "stderr",
     "output_type": "stream",
     "text": [
      "..\\sigma\\GraphData.py:187: VisibleDeprecationWarning: Creating an ndarray from ragged nested sequences (which is a list-or-tuple of lists-or-tuples-or ndarrays with different lengths or shapes) is deprecated. If you meant to do this, you must specify 'dtype=object' when creating the ndarray.\n",
      "  features = np.asarray(features)\n",
      "..\\sigma\\GraphData.py:188: VisibleDeprecationWarning: Creating an ndarray from ragged nested sequences (which is a list-or-tuple of lists-or-tuples-or ndarrays with different lengths or shapes) is deprecated. If you meant to do this, you must specify 'dtype=object' when creating the ndarray.\n",
      "  edge_features = np.asarray(edge_features)\n"
     ]
    },
    {
     "name": "stdout",
     "output_type": "stream",
     "text": [
      "Predictions: 100%|█████████████████████████████████████▉| 558/559 [00:07<00:00, 72.86it/s]\n",
      "R2 Score : 0.9936472032409795 \n",
      "\n",
      "Median Relative Error : 1.2730961933320553 %\n"
     ]
    },
    {
     "name": "stderr",
     "output_type": "stream",
     "text": [
      "..\\sigma\\GraphData.py:187: VisibleDeprecationWarning: Creating an ndarray from ragged nested sequences (which is a list-or-tuple of lists-or-tuples-or ndarrays with different lengths or shapes) is deprecated. If you meant to do this, you must specify 'dtype=object' when creating the ndarray.\n",
      "  features = np.asarray(features)\n",
      "..\\sigma\\GraphData.py:188: VisibleDeprecationWarning: Creating an ndarray from ragged nested sequences (which is a list-or-tuple of lists-or-tuples-or ndarrays with different lengths or shapes) is deprecated. If you meant to do this, you must specify 'dtype=object' when creating the ndarray.\n",
      "  edge_features = np.asarray(edge_features)\n"
     ]
    },
    {
     "name": "stdout",
     "output_type": "stream",
     "text": [
      "Predictions: 100%|█████████████████████████████████████▉| 558/559 [00:07<00:00, 76.50it/s]\n",
      "R2 Score : 0.9936003033374805 \n",
      "\n",
      "Median Relative Error : 1.1773257944418423 %\n"
     ]
    },
    {
     "name": "stderr",
     "output_type": "stream",
     "text": [
      "..\\sigma\\GraphData.py:187: VisibleDeprecationWarning: Creating an ndarray from ragged nested sequences (which is a list-or-tuple of lists-or-tuples-or ndarrays with different lengths or shapes) is deprecated. If you meant to do this, you must specify 'dtype=object' when creating the ndarray.\n",
      "  features = np.asarray(features)\n",
      "..\\sigma\\GraphData.py:188: VisibleDeprecationWarning: Creating an ndarray from ragged nested sequences (which is a list-or-tuple of lists-or-tuples-or ndarrays with different lengths or shapes) is deprecated. If you meant to do this, you must specify 'dtype=object' when creating the ndarray.\n",
      "  edge_features = np.asarray(edge_features)\n"
     ]
    },
    {
     "name": "stdout",
     "output_type": "stream",
     "text": [
      "Predictions: 100%|█████████████████████████████████████▉| 558/559 [00:07<00:00, 75.64it/s]\n",
      "R2 Score : 0.9937673580337929 \n",
      "\n",
      "Median Relative Error : 1.192420426873752 %\n"
     ]
    },
    {
     "name": "stderr",
     "output_type": "stream",
     "text": [
      "..\\sigma\\GraphData.py:187: VisibleDeprecationWarning: Creating an ndarray from ragged nested sequences (which is a list-or-tuple of lists-or-tuples-or ndarrays with different lengths or shapes) is deprecated. If you meant to do this, you must specify 'dtype=object' when creating the ndarray.\n",
      "  features = np.asarray(features)\n",
      "..\\sigma\\GraphData.py:188: VisibleDeprecationWarning: Creating an ndarray from ragged nested sequences (which is a list-or-tuple of lists-or-tuples-or ndarrays with different lengths or shapes) is deprecated. If you meant to do this, you must specify 'dtype=object' when creating the ndarray.\n",
      "  edge_features = np.asarray(edge_features)\n"
     ]
    },
    {
     "name": "stdout",
     "output_type": "stream",
     "text": [
      "Predictions: 100%|█████████████████████████████████████▉| 558/559 [00:07<00:00, 74.29it/s]\n",
      "R2 Score : 0.9936510705270266 \n",
      "\n",
      "Median Relative Error : 1.1883295091470867 %\n"
     ]
    },
    {
     "name": "stderr",
     "output_type": "stream",
     "text": [
      "..\\sigma\\GraphData.py:187: VisibleDeprecationWarning: Creating an ndarray from ragged nested sequences (which is a list-or-tuple of lists-or-tuples-or ndarrays with different lengths or shapes) is deprecated. If you meant to do this, you must specify 'dtype=object' when creating the ndarray.\n",
      "  features = np.asarray(features)\n",
      "..\\sigma\\GraphData.py:188: VisibleDeprecationWarning: Creating an ndarray from ragged nested sequences (which is a list-or-tuple of lists-or-tuples-or ndarrays with different lengths or shapes) is deprecated. If you meant to do this, you must specify 'dtype=object' when creating the ndarray.\n",
      "  edge_features = np.asarray(edge_features)\n"
     ]
    },
    {
     "name": "stdout",
     "output_type": "stream",
     "text": [
      "Predictions: 100%|█████████████████████████████████████▉| 558/559 [00:07<00:00, 74.56it/s]\n",
      "R2 Score : 0.9937173414969419 \n",
      "\n",
      "Median Relative Error : 1.2024302747659514 %\n"
     ]
    },
    {
     "name": "stderr",
     "output_type": "stream",
     "text": [
      "..\\sigma\\GraphData.py:187: VisibleDeprecationWarning: Creating an ndarray from ragged nested sequences (which is a list-or-tuple of lists-or-tuples-or ndarrays with different lengths or shapes) is deprecated. If you meant to do this, you must specify 'dtype=object' when creating the ndarray.\n",
      "  features = np.asarray(features)\n",
      "..\\sigma\\GraphData.py:188: VisibleDeprecationWarning: Creating an ndarray from ragged nested sequences (which is a list-or-tuple of lists-or-tuples-or ndarrays with different lengths or shapes) is deprecated. If you meant to do this, you must specify 'dtype=object' when creating the ndarray.\n",
      "  edge_features = np.asarray(edge_features)\n"
     ]
    },
    {
     "name": "stdout",
     "output_type": "stream",
     "text": [
      "Predictions: 100%|█████████████████████████████████████▉| 558/559 [00:07<00:00, 75.60it/s]\n",
      "R2 Score : 0.9936357740251969 \n",
      "\n",
      "Median Relative Error : 1.2351601810778687 %\n"
     ]
    }
   ],
   "source": [
    "for j in range(9):\n",
    "    CoordinateRotate = copy.deepcopy(Coordinate)\n",
    "    for k in range(len(CoordinateRotate)):\n",
    "        thetax = random.uniform(0, math.pi)  \n",
    "        thetay = random.uniform(0, math.pi)\n",
    "        thetaz = random.uniform(0, math.pi)\n",
    "        for ii in range(len(CoordinateRotate[k])):\n",
    "            CoordinateRotate[k][ii] = CoordinateRotate[k][ii] @Rx(thetax) @Ry(thetay) @Rz(thetaz)\n",
    "    for i in range(len(CoordinateRotate)):\n",
    "        CoordinateRotate[i] = (np.array(CoordinateRotate[i]) - param.Min_Coor) / (param.Max_Coor - param.Min_Coor)\n",
    "        \n",
    "    adj, features, edge_features = convertToGraph(smiles, CoordinateRotate, param.All_Atoms)\n",
    "    DataSet = MyDataset(features, adj, edge_features, ccs)\n",
    "\n",
    "    ECC_Model = load_Model_from_file(mfileh5)\n",
    "\n",
    "    re = predict(ECC_Model,param.adduct_SET,DataSet,adduct,)\n",
    "    \n",
    "    Sigma     = re\n",
    "    CCS     = ccs\n",
    "    SigmaPer = R2_MRE(CCS, Sigma)\n",
    "    R2.append(SigmaPer[0])\n",
    "    MeRE.append(SigmaPer[1])"
   ]
  },
  {
   "cell_type": "code",
   "execution_count": 5,
   "id": "e2405545",
   "metadata": {},
   "outputs": [
    {
     "name": "stdout",
     "output_type": "stream",
     "text": [
      "0.9936692399483567\n",
      "5.085580263706468e-05\n",
      "1.2108884565454263\n",
      "0.02913986073463399\n"
     ]
    }
   ],
   "source": [
    "import statistics\n",
    "\n",
    "r2_mean = statistics.mean(R2)\n",
    "print(r2_mean)\n",
    "r2_std = statistics.stdev(R2)\n",
    "print(r2_std)\n",
    "\n",
    "MeRE_mean = statistics.mean(MeRE)\n",
    "print(MeRE_mean)\n",
    "MeRE_std = statistics.stdev(MeRE)\n",
    "print(MeRE_std)"
   ]
  }
 ],
 "metadata": {
  "kernelspec": {
   "display_name": "Python 3 (ipykernel)",
   "language": "python",
   "name": "python3"
  },
  "language_info": {
   "codemirror_mode": {
    "name": "ipython",
    "version": 3
   },
   "file_extension": ".py",
   "mimetype": "text/x-python",
   "name": "python",
   "nbconvert_exporter": "python",
   "pygments_lexer": "ipython3",
   "version": "3.7.7"
  }
 },
 "nbformat": 4,
 "nbformat_minor": 5
}
